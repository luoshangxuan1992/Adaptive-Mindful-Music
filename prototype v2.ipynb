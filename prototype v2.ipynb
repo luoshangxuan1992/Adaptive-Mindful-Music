{
 "cells": [
  {
   "cell_type": "code",
   "execution_count": 45,
   "metadata": {},
   "outputs": [
    {
     "name": "stdout",
     "output_type": "stream",
     "text": [
      "Loading: stem/Tides of Ocean_m1_1.wav\n",
      "Loading: stem/Tides of Ocean_m2_1.wav\n"
     ]
    },
    {
     "name": "stderr",
     "output_type": "stream",
     "text": [
      "C:\\Users\\Shangxuan\\AppData\\Local\\Temp\\ipykernel_8368\\1520016488.py:18: WavFileWarning: Chunk (non-data) not understood, skipping it.\n",
      "  sr, data = read(filename)\n"
     ]
    },
    {
     "name": "stdout",
     "output_type": "stream",
     "text": [
      "Loading: stem/Tides of Ocean_chord_1.wav\n",
      "Loading: stem/Tides of Ocean_bass_1.wav\n",
      "Press '+' to add a track, '-' to remove the last track, and 'q' to quit.\n",
      "Adding a new track...\n",
      "Adding a new track...\n",
      "Adding a new track...\n",
      "Adding a new track...\n",
      "Exiting program...\n",
      "Program exited.\n"
     ]
    }
   ],
   "source": [
    "import sounddevice as sd\n",
    "import numpy as np\n",
    "import random\n",
    "from scipy.io.wavfile import read\n",
    "\n",
    "# Global variables\n",
    "buffer_size = 1024  # 每个回调帧数\n",
    "active_tracks = []  # 保存 (音频数据, 当前播放位置) 的列表\n",
    "\n",
    "samplerate = None\n",
    "current_position = 0  # 当前播放位置（全局同步）\n",
    "\n",
    "# Function to load audio files\n",
    "def load_audio(filename):\n",
    "    global samplerate\n",
    "    filename = \"stem/\" + filename  # 添加路径前缀\n",
    "    print(f\"Loading: {filename}\")\n",
    "    sr, data = read(filename)\n",
    "    samplerate = sr if samplerate is None else samplerate\n",
    "    data = data / np.max(np.abs(data), axis=0)  # 归一化到 [-1, 1]\n",
    "    if len(data.shape) > 1:  # 转换为单声道\n",
    "        data = np.mean(data, axis=1)\n",
    "    return data\n",
    "\n",
    "# Real-time callback for playback\n",
    "def callback(outdata, frames, time, status):\n",
    "    if status:\n",
    "        print(status)\n",
    "    global active_tracks, current_position\n",
    "\n",
    "    mix = np.zeros(frames)  # 初始化混音缓冲区\n",
    "\n",
    "    for i, (track, position) in enumerate(active_tracks):\n",
    "        remaining_frames = len(track) - position  # 剩余帧数\n",
    "        if remaining_frames >= frames:\n",
    "            mix += track[position:position + frames]\n",
    "            active_tracks[i] = (track, position + frames)  # 更新播放位置\n",
    "        else:\n",
    "            mix[:remaining_frames] += track[position:]\n",
    "            # 如果开启循环播放，将音轨位置重置为0\n",
    "            active_tracks[i] = (track, 0 + (frames - remaining_frames))  # 重新开始\n",
    "\n",
    "    current_position += frames  # 更新全局位置\n",
    "    outdata[:, 0] = mix  # 将混音写入输出缓冲区\n",
    "\n",
    "    # 移除播放完成的音轨\n",
    "    active_tracks[:] = [(track, pos) for track, pos in active_tracks if pos < len(track)]\n",
    "\n",
    "# Function to add a track at the current position\n",
    "def add_track(track):\n",
    "    global current_position\n",
    "    print(\"Adding a new track...\")\n",
    "    active_tracks.append((track, current_position))  # 设置开始位置为当前全局位置\n",
    "\n",
    "# Function to remove the last track\n",
    "def remove_track():\n",
    "    global active_tracks\n",
    "    if active_tracks:\n",
    "        print(\"Removing the last added track...\")\n",
    "        track_list.append(active_tracks.pop())\n",
    "    else:\n",
    "        print(\"No tracks to remove!\")\n",
    "\n",
    "# Main function\n",
    "def main():\n",
    "    global samplerate, current_position,track_list\n",
    "    # 加载音频文件\n",
    "    track1 = load_audio(\"Tides of Ocean_m1_1.wav\")\n",
    "    track2 = load_audio(\"Tides of Ocean_m2_1.wav\")\n",
    "    track3 = load_audio(\"Tides of Ocean_chord_1.wav\")\n",
    "    track4 = load_audio(\"Tides of Ocean_bass_1.wav\")\n",
    "    track_list = [track1, track2, track3, track4]\n",
    "\n",
    "    # 启动音频流\n",
    "    print(\"Press '+' to add a track, '-' to remove the last track, and 'q' to quit.\")\n",
    "    stream = sd.OutputStream(callback=callback, samplerate=samplerate, channels=1, blocksize=buffer_size)\n",
    "\n",
    "    try:\n",
    "        with stream:\n",
    "            while True:\n",
    "                user_input = input(\"Enter command (+/-/q): \").strip()\n",
    "                if user_input == \"+\":\n",
    "                    if len(active_tracks) <= 3:\n",
    "                        track_i = random.randrange(len(track_list))\n",
    "                        add_track(track_list.pop(track_i))\n",
    "                elif user_input == \"-\":\n",
    "                    remove_track()\n",
    "                elif user_input == \"q\":\n",
    "                    print(\"Exiting program...\")\n",
    "                    break\n",
    "                else:\n",
    "                    print(\"Invalid input. Use '+' to add, '-' to remove, 'q' to quit.\")\n",
    "    except KeyboardInterrupt:\n",
    "        print(\"\\nPlayback stopped.\")\n",
    "    finally:\n",
    "        print(\"Program exited.\")\n",
    "\n",
    "# Run the program\n",
    "main()\n"
   ]
  },
  {
   "cell_type": "code",
   "execution_count": 38,
   "metadata": {},
   "outputs": [
    {
     "data": {
      "text/plain": [
       "3"
      ]
     },
     "execution_count": 38,
     "metadata": {},
     "output_type": "execute_result"
    }
   ],
   "source": [
    "random.choice([0,3])"
   ]
  }
 ],
 "metadata": {
  "kernelspec": {
   "display_name": "base",
   "language": "python",
   "name": "python3"
  },
  "language_info": {
   "codemirror_mode": {
    "name": "ipython",
    "version": 3
   },
   "file_extension": ".py",
   "mimetype": "text/x-python",
   "name": "python",
   "nbconvert_exporter": "python",
   "pygments_lexer": "ipython3",
   "version": "3.11.8"
  }
 },
 "nbformat": 4,
 "nbformat_minor": 2
}
